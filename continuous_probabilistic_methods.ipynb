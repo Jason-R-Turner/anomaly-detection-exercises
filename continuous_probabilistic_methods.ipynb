{
 "cells": [
  {
   "cell_type": "code",
   "execution_count": null,
   "id": "8654993a-a43a-48a1-949e-8ef1bb75f343",
   "metadata": {},
   "outputs": [],
   "source": [
    "# Libraries\n",
    "import numpy as np\n",
    "import pandas as pd\n",
    "import seaborn as sns\n",
    "import matplotlib.pyplot as plt\n",
    "\n",
    "# OS access\n",
    "import os\n",
    "\n",
    "# Custom module\n",
    "import util\n",
    "\n",
    "pd.set_option('display.max_rows', None)\n",
    "pd.set_option('display.max_columns', None)"
   ]
  },
  {
   "cell_type": "code",
   "execution_count": null,
   "id": "144432dc-3703-4dfa-9a78-278b53920efc",
   "metadata": {},
   "outputs": [],
   "source": [
    "def get_quartet_data():\n",
    "\n",
    "    '''\n",
    "    Checks if the csv file for demonstrating Anscombe's Quartet is stored locally.  If it's not then\n",
    "    it acquires the data from a url then saves it as a dataframe. \n",
    "    '''\n",
    "\n",
    "    file = 'quartet.csv'\n",
    "    \n",
    "    if os.path.isfile(file):\n",
    "        return pd.read_csv(file)\n",
    "    \n",
    "    else:\n",
    "        url = \"https://gist.githubusercontent.com/ryanorsinger/6218f5731f3df7cb4771ff3879fdeaa3/raw/88cb6bed276e2236c33df011bd753b6c73832c30/quartet.csv\"\n",
    "        \n",
    "        df = pd.read_csv(url)\n",
    "\n",
    "        df.to_csv(file)\n",
    "\n",
    "        return df "
   ]
  },
  {
   "cell_type": "code",
   "execution_count": null,
   "id": "0034492e-0db8-443d-b7bf-c6595fdb2832",
   "metadata": {},
   "outputs": [],
   "source": [
    "df = get_quartet_data()\n",
    "df.head(3)"
   ]
  },
  {
   "cell_type": "code",
   "execution_count": null,
   "id": "f1bdca10-ad31-4064-a287-a77f1207ef42",
   "metadata": {},
   "outputs": [],
   "source": []
  },
  {
   "cell_type": "code",
   "execution_count": null,
   "id": "8a019a15-e9a7-406c-a70a-bb6e4c41f9f4",
   "metadata": {},
   "outputs": [],
   "source": [
    "%matplotlib inline\n",
    "\n",
    "sns.relplot(x='x', y='y', col='dataset', data=df).fig.suptitle(\"Anscombe's Quartet\")\n",
    "df.groupby(\"dataset\").describe()"
   ]
  },
  {
   "cell_type": "markdown",
   "id": "cdc199cf-14eb-44f2-b7a9-9e1f4c17c172",
   "metadata": {},
   "source": [
    "1. Using lemonade.csv dataset and focusing on continuous variables:\n",
    "- Use the IQR Range Rule and the upper and lower bounds to identify the lower outliers of each column of lemonade.csv, using the multiplier of 1.5. Do these lower outliers make sense? Which outliers should be kept?\n",
    "- Use the IQR Range Rule and the upper and upper bounds to identify the upper outliers of each column of lemonade.csv, using the multiplier of 1.5. Do these upper outliers make sense? Which outliers should be kept?\n",
    "- Using the multiplier of 3, IQR Range Rule, and the lower bounds, identify the outliers below the lower bound in each colum of lemonade.csv. Do these lower outliers make sense? Which outliers should be kept?\n",
    "- Using the multiplier of 3, IQR Range Rule, and the upper bounds, identify the outliers above the upper_bound in each colum of lemonade.csv. Do these upper outliers make sense? Which outliers should be kept?"
   ]
  },
  {
   "cell_type": "code",
   "execution_count": null,
   "id": "116275c9-ac17-43f5-acfd-fb4fb5a772c6",
   "metadata": {},
   "outputs": [],
   "source": [
    "def get_lower_and_upper_bounds(series, multiplier = 1.5):\n",
    "    '''\n",
    "    Gets the upper and lower bounds of a series based on the InterQuartile Range and a multiplier. Default multiplier is 1.5\n",
    "    '''\n",
    "    q1, q3 = series.quantile([.25, .75])\n",
    "    iqr = q3 - q1\n",
    "    \n",
    "    upper = q3 + (multiplier * iqr)\n",
    "    lower = q1 - (multiplier * iqr)\n",
    "    \n",
    "    print(f'{series.name}\\'s Upper bound is {round(upper, 1)}, and Lower bound is {round(lower, 1)}')\n",
    "    return upper, lower"
   ]
  },
  {
   "cell_type": "code",
   "execution_count": null,
   "id": "2742cb1f-b71a-4bd0-8f32-efcfeac93690",
   "metadata": {},
   "outputs": [],
   "source": [
    "csv = \"/Users/ultimate/codeup-data-science/anomaly-detection-exercises/lemonade.csv\"\n",
    "\n",
    "if os.path.isfile(csv):\n",
    "        pd.read_csv(csv)\n",
    "    \n",
    "else:\n",
    "    url = \"https://gist.githubusercontent.com/ryanorsinger/19bc7eccd6279661bd13307026628ace/raw/e4b5d6787015a4782f96cad6d1d62a8bdbac54c7/lemonade.csv\"\n",
    "\n",
    "    df = pd.read_csv(url)\n",
    "\n",
    "    df.to_csv(file)\n",
    "\n",
    "df = pd.read_csv(csv)\n",
    "df.head(3)"
   ]
  },
  {
   "cell_type": "code",
   "execution_count": null,
   "id": "2a71cdf6-a306-46a9-9361-c8a9ef1a0743",
   "metadata": {},
   "outputs": [],
   "source": [
    "df.dtypes"
   ]
  },
  {
   "cell_type": "code",
   "execution_count": null,
   "id": "89194461-199a-440d-91a1-70585901cf85",
   "metadata": {},
   "outputs": [],
   "source": [
    "df.hist(figsize=(24, 18))\n",
    "plt.show()"
   ]
  },
  {
   "cell_type": "code",
   "execution_count": null,
   "id": "f8a0b3cd-903f-4b3f-a192-c19a6861ff62",
   "metadata": {},
   "outputs": [],
   "source": [
    "Temperature = df.Temperature\n",
    "Rainfall = df.Rainfall\n",
    "Flyers = df.Flyers\n",
    "Price = df.Price\n",
    "Sales = df.Sales\n",
    "\n",
    "# Calculate the z-score \n",
    "zscores = pd.Series((Temperature - Temperature.mean()) / Temperature.std())\n",
    "\n",
    "# Finds all of the observations two standard deviations or more.\n",
    "Temperature[zscores.abs() >= 2]\n",
    "\n",
    "# Finds all of the observations three standard deviations or more\n",
    "Temperature[zscores.abs() >= 3]\n"
   ]
  },
  {
   "cell_type": "code",
   "execution_count": null,
   "id": "06fbaeb4-d955-4b82-bbca-80780dad23ca",
   "metadata": {},
   "outputs": [],
   "source": [
    "upper_temp, lower_temp = get_lower_and_upper_bounds(Temperature)\n",
    "upper_rain, lower_rain = get_lower_and_upper_bounds(Rainfall)\n",
    "upper_fly, lower_fly = get_lower_and_upper_bounds(Flyers)\n",
    "upper_price, lower_price = get_lower_and_upper_bounds(Price)\n",
    "upper_sales, lower_sales = get_lower_and_upper_bounds(Sales)"
   ]
  },
  {
   "cell_type": "code",
   "execution_count": null,
   "id": "aa091911-9aac-425a-85be-a27d0937fddc",
   "metadata": {},
   "outputs": [],
   "source": [
    "get_lower_and_upper_bounds(Temperature), get_lower_and_upper_bounds(Rainfall), get_lower_and_upper_bounds(Flyers), get_lower_and_upper_bounds(Price), get_lower_and_upper_bounds(Sales)"
   ]
  },
  {
   "cell_type": "code",
   "execution_count": null,
   "id": "a28147c4-431d-4f26-8d18-4faaf41d0b6c",
   "metadata": {
    "tags": []
   },
   "outputs": [],
   "source": [
    "sns.pairplot(df)"
   ]
  },
  {
   "cell_type": "code",
   "execution_count": null,
   "id": "3b4e0b9f-4d09-4293-9478-d69ff359d6d4",
   "metadata": {},
   "outputs": [],
   "source": [
    "low_outliers = Temperature[Temperature < lower_temp]\n",
    "low_outliers"
   ]
  },
  {
   "cell_type": "code",
   "execution_count": null,
   "id": "32594a4b-8560-4940-8345-4c7fc5fbf457",
   "metadata": {},
   "outputs": [],
   "source": [
    "hi_outliers = Temperature[Temperature > upper_temp]\n",
    "hi_outliers"
   ]
  },
  {
   "cell_type": "code",
   "execution_count": null,
   "id": "4096e870-d64b-4115-a66a-bd795fdfb899",
   "metadata": {},
   "outputs": [],
   "source": [
    "low_outliers = Rainfall[Rainfall < lower_temp]\n",
    "low_outliers"
   ]
  },
  {
   "cell_type": "code",
   "execution_count": null,
   "id": "ce4272cc-596c-4022-a3b1-996a289902eb",
   "metadata": {},
   "outputs": [],
   "source": [
    "hi_outliers = Rainfall[Rainfall > upper_temp]\n",
    "hi_outliers"
   ]
  },
  {
   "cell_type": "code",
   "execution_count": null,
   "id": "3ede01c5-5b1b-45e1-af90-e82b29e6c958",
   "metadata": {},
   "outputs": [],
   "source": [
    "low_outliers = Flyers[Flyers < lower_temp]\n",
    "low_outliers"
   ]
  },
  {
   "cell_type": "code",
   "execution_count": null,
   "id": "69334f6e-28c6-4b4c-901e-ff4dfbe28d79",
   "metadata": {},
   "outputs": [],
   "source": [
    "hi_outliers = Flyers[Flyers > upper_temp]\n",
    "hi_outliers"
   ]
  },
  {
   "cell_type": "code",
   "execution_count": null,
   "id": "7f8287e9-2727-44ba-9652-29f0d46fed03",
   "metadata": {},
   "outputs": [],
   "source": [
    "low_outliers = Price[Price < lower_temp]\n",
    "low_outliers"
   ]
  },
  {
   "cell_type": "code",
   "execution_count": null,
   "id": "98384047-1c81-4606-8edb-fc39a6a84e2b",
   "metadata": {},
   "outputs": [],
   "source": [
    "hi_outliers = Price[Price > upper_temp]\n",
    "hi_outliers"
   ]
  },
  {
   "cell_type": "code",
   "execution_count": null,
   "id": "60974472-5d22-4e8b-8f1d-cc267b07d8f0",
   "metadata": {},
   "outputs": [],
   "source": [
    "low_outliers = Sales[Sales < lower_temp]\n",
    "low_outliers"
   ]
  },
  {
   "cell_type": "code",
   "execution_count": null,
   "id": "97b887d3-4503-4571-94b9-f0c634998c4f",
   "metadata": {},
   "outputs": [],
   "source": [
    "hi_outliers = Sales[Sales > upper_temp]\n",
    "hi_outliers"
   ]
  },
  {
   "cell_type": "code",
   "execution_count": null,
   "id": "99ecffa1-0966-4586-b1d1-071b0ffca3cf",
   "metadata": {},
   "outputs": [],
   "source": []
  },
  {
   "cell_type": "code",
   "execution_count": null,
   "id": "a57d742d-1a37-4eac-bcdc-65d5587c8998",
   "metadata": {},
   "outputs": [],
   "source": []
  },
  {
   "cell_type": "markdown",
   "id": "d0b1c03a-5e55-4b6b-883d-85d97c48066f",
   "metadata": {},
   "source": [
    "2. Identify if any columns in lemonade.csv are normally distributed. For normally distributed columns:\n",
    "\n",
    "- Use a 2 sigma decision rule to isolate the outliers.\n",
    "\n",
    "- Do these make sense?\n",
    "- Should certain outliers be kept or removed?"
   ]
  },
  {
   "cell_type": "code",
   "execution_count": null,
   "id": "1fd62bd5-29a4-4b13-b6f9-09a454243e67",
   "metadata": {},
   "outputs": [],
   "source": [
    "Temperature.sort_values(ascending=False)"
   ]
  },
  {
   "cell_type": "markdown",
   "id": "f6d6f487-5f95-4a85-8ff5-03acf24cd018",
   "metadata": {},
   "source": [
    "3. Now use a 3 sigma decision rule to isolate the outliers in the normally distributed columns from lemonade.csv"
   ]
  },
  {
   "cell_type": "code",
   "execution_count": null,
   "id": "29f3dd88-3c0f-471c-b882-848192617089",
   "metadata": {},
   "outputs": [],
   "source": []
  }
 ],
 "metadata": {
  "kernelspec": {
   "display_name": "Python 3 (ipykernel)",
   "language": "python",
   "name": "python3"
  },
  "language_info": {
   "codemirror_mode": {
    "name": "ipython",
    "version": 3
   },
   "file_extension": ".py",
   "mimetype": "text/x-python",
   "name": "python",
   "nbconvert_exporter": "python",
   "pygments_lexer": "ipython3",
   "version": "3.9.7"
  }
 },
 "nbformat": 4,
 "nbformat_minor": 5
}
